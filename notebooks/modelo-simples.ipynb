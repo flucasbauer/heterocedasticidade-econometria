{
 "cells": [
  {
   "cell_type": "code",
   "execution_count": 1,
   "metadata": {},
   "outputs": [],
   "source": [
    "import pandas as pd\n",
    "import statsmodels.api as sm\n",
    "import statsmodels.formula.api as smf\n",
    "import matplotlib.pyplot as plt\n",
    "import seaborn as sns"
   ]
  },
  {
   "cell_type": "code",
   "execution_count": 4,
   "metadata": {},
   "outputs": [
    {
     "data": {
      "text/html": [
       "<div>\n",
       "<style scoped>\n",
       "    .dataframe tbody tr th:only-of-type {\n",
       "        vertical-align: middle;\n",
       "    }\n",
       "\n",
       "    .dataframe tbody tr th {\n",
       "        vertical-align: top;\n",
       "    }\n",
       "\n",
       "    .dataframe thead th {\n",
       "        text-align: right;\n",
       "    }\n",
       "</style>\n",
       "<table border=\"1\" class=\"dataframe\">\n",
       "  <thead>\n",
       "    <tr style=\"text-align: right;\">\n",
       "      <th></th>\n",
       "      <th>Renda_pri</th>\n",
       "      <th>Idade</th>\n",
       "    </tr>\n",
       "  </thead>\n",
       "  <tbody>\n",
       "    <tr>\n",
       "      <th>0</th>\n",
       "      <td>800</td>\n",
       "      <td>28</td>\n",
       "    </tr>\n",
       "    <tr>\n",
       "      <th>1</th>\n",
       "      <td>700</td>\n",
       "      <td>30</td>\n",
       "    </tr>\n",
       "    <tr>\n",
       "      <th>2</th>\n",
       "      <td>1200</td>\n",
       "      <td>32</td>\n",
       "    </tr>\n",
       "    <tr>\n",
       "      <th>3</th>\n",
       "      <td>510</td>\n",
       "      <td>30</td>\n",
       "    </tr>\n",
       "    <tr>\n",
       "      <th>4</th>\n",
       "      <td>700</td>\n",
       "      <td>42</td>\n",
       "    </tr>\n",
       "  </tbody>\n",
       "</table>\n",
       "</div>"
      ],
      "text/plain": [
       "   Renda_pri  Idade\n",
       "0        800     28\n",
       "1        700     30\n",
       "2       1200     32\n",
       "3        510     30\n",
       "4        700     42"
      ]
     },
     "execution_count": 4,
     "metadata": {},
     "output_type": "execute_result"
    }
   ],
   "source": [
    "# Carregar o banco de dados\n",
    "df = pd.read_excel(r\"C:\\Users\\fluca\\Desktop\\2-unioeste\\Ciências Econômicas\\4º ano\\2º bimestre\\Econometria II\\2º trabalho\\heterocedasticidade\\data\\Trab_Cascavel_heteroc.xls\")\n",
    "df.head()"
   ]
  },
  {
   "cell_type": "code",
   "execution_count": 5,
   "metadata": {},
   "outputs": [],
   "source": [
    "df.rename(columns=({'Renda_pri':'renda','Idade':'idade'}), inplace=True)"
   ]
  },
  {
   "cell_type": "code",
   "execution_count": 6,
   "metadata": {},
   "outputs": [
    {
     "data": {
      "text/html": [
       "<div>\n",
       "<style scoped>\n",
       "    .dataframe tbody tr th:only-of-type {\n",
       "        vertical-align: middle;\n",
       "    }\n",
       "\n",
       "    .dataframe tbody tr th {\n",
       "        vertical-align: top;\n",
       "    }\n",
       "\n",
       "    .dataframe thead th {\n",
       "        text-align: right;\n",
       "    }\n",
       "</style>\n",
       "<table border=\"1\" class=\"dataframe\">\n",
       "  <thead>\n",
       "    <tr style=\"text-align: right;\">\n",
       "      <th></th>\n",
       "      <th>renda</th>\n",
       "      <th>idade</th>\n",
       "    </tr>\n",
       "  </thead>\n",
       "  <tbody>\n",
       "    <tr>\n",
       "      <th>0</th>\n",
       "      <td>800</td>\n",
       "      <td>28</td>\n",
       "    </tr>\n",
       "    <tr>\n",
       "      <th>1</th>\n",
       "      <td>700</td>\n",
       "      <td>30</td>\n",
       "    </tr>\n",
       "    <tr>\n",
       "      <th>2</th>\n",
       "      <td>1200</td>\n",
       "      <td>32</td>\n",
       "    </tr>\n",
       "    <tr>\n",
       "      <th>3</th>\n",
       "      <td>510</td>\n",
       "      <td>30</td>\n",
       "    </tr>\n",
       "    <tr>\n",
       "      <th>4</th>\n",
       "      <td>700</td>\n",
       "      <td>42</td>\n",
       "    </tr>\n",
       "  </tbody>\n",
       "</table>\n",
       "</div>"
      ],
      "text/plain": [
       "   renda  idade\n",
       "0    800     28\n",
       "1    700     30\n",
       "2   1200     32\n",
       "3    510     30\n",
       "4    700     42"
      ]
     },
     "execution_count": 6,
     "metadata": {},
     "output_type": "execute_result"
    }
   ],
   "source": [
    "df.head()"
   ]
  },
  {
   "cell_type": "code",
   "execution_count": 10,
   "metadata": {},
   "outputs": [
    {
     "name": "stdout",
     "output_type": "stream",
     "text": [
      "                            OLS Regression Results                            \n",
      "==============================================================================\n",
      "Dep. Variable:                  renda   R-squared:                       0.011\n",
      "Model:                            OLS   Adj. R-squared:                  0.011\n",
      "Method:                 Least Squares   F-statistic:                     142.1\n",
      "Date:                Mon, 31 Mar 2025   Prob (F-statistic):           1.36e-32\n",
      "Time:                        15:59:34   Log-Likelihood:            -1.2253e+05\n",
      "No. Observations:               13075   AIC:                         2.451e+05\n",
      "Df Residuals:                   13073   BIC:                         2.451e+05\n",
      "Df Model:                           1                                         \n",
      "Covariance Type:            nonrobust                                         \n",
      "==============================================================================\n",
      "                 coef    std err          t      P>|t|      [0.025      0.975]\n",
      "------------------------------------------------------------------------------\n",
      "Intercept    613.6543     78.073      7.860      0.000     460.620     766.689\n",
      "idade         23.9690      2.011     11.921      0.000      20.028      27.910\n",
      "==============================================================================\n",
      "Omnibus:                    35903.355   Durbin-Watson:                   1.805\n",
      "Prob(Omnibus):                  0.000   Jarque-Bera (JB):       2314184423.294\n",
      "Skew:                          34.270   Prob(JB):                         0.00\n",
      "Kurtosis:                    2062.887   Cond. No.                         122.\n",
      "==============================================================================\n",
      "\n",
      "Notes:\n",
      "[1] Standard Errors assume that the covariance matrix of the errors is correctly specified.\n"
     ]
    }
   ],
   "source": [
    "# Criar o modelo de regressão\n",
    "modelo = smf.ols(\"renda ~ idade\", data=df).fit()\n",
    "print(modelo.summary())\n",
    "\n",
    "# Calcular os valores ajustados (preditos de y)\n",
    "y_estimado = modelo.fittedvalues"
   ]
  },
  {
   "cell_type": "code",
   "execution_count": 13,
   "metadata": {},
   "outputs": [],
   "source": [
    "# Calcular resíduos e quadrados dos resíduos\n",
    "residuos = modelo.resid\n",
    "residuos_quadrados = residuos ** 2\n",
    "\n",
    "# Calcular os valores ajustados (preditos de y)\n",
    "y_estimado = modelo.fittedvalues"
   ]
  },
  {
   "cell_type": "code",
   "execution_count": 15,
   "metadata": {},
   "outputs": [
    {
     "data": {
      "image/png": "[encoded data removed]",
      "text/plain": [
       "<Figure size 800x500 with 1 Axes>"
      ]
     },
     "metadata": {},
     "output_type": "display_data"
    },
    {
     "data": {
      "image/png": "[encoded data removed]",
      "text/plain": [
       "<Figure size 800x500 with 1 Axes>"
      ]
     },
     "metadata": {},
     "output_type": "display_data"
    }
   ],
   "source": [
    "# Gráfico: Erro ao quadrado vs. Renda Estimada\n",
    "plt.figure(figsize=(8, 5))\n",
    "sns.scatterplot(x=y_estimado, y=residuos_quadrados, color='blue')\n",
    "plt.xlabel(\"Renda Estimada\")\n",
    "plt.ylabel(\"Erro ao Quadrado\")\n",
    "plt.show()\n",
    "\n",
    "# Gráfico: Erro ao quadrado vs. Idade\n",
    "plt.figure(figsize=(8, 5))\n",
    "sns.scatterplot(x=df['idade'], y=residuos_quadrados, color='red')\n",
    "plt.xlabel(\"Idade\")\n",
    "plt.ylabel(\"Erro ao Quadrado\")\n",
    "plt.show()"
   ]
  },
  {
   "cell_type": "code",
   "execution_count": 23,
   "metadata": {},
   "outputs": [
    {
     "data": {
      "text/html": [
       "<div>\n",
       "<style scoped>\n",
       "    .dataframe tbody tr th:only-of-type {\n",
       "        vertical-align: middle;\n",
       "    }\n",
       "\n",
       "    .dataframe tbody tr th {\n",
       "        vertical-align: top;\n",
       "    }\n",
       "\n",
       "    .dataframe thead th {\n",
       "        text-align: right;\n",
       "    }\n",
       "</style>\n",
       "<table border=\"1\" class=\"dataframe\">\n",
       "  <thead>\n",
       "    <tr style=\"text-align: right;\">\n",
       "      <th></th>\n",
       "      <th>renda</th>\n",
       "      <th>idade</th>\n",
       "    </tr>\n",
       "  </thead>\n",
       "  <tbody>\n",
       "    <tr>\n",
       "      <th>8841</th>\n",
       "      <td>2000</td>\n",
       "      <td>79</td>\n",
       "    </tr>\n",
       "    <tr>\n",
       "      <th>9505</th>\n",
       "      <td>1000</td>\n",
       "      <td>79</td>\n",
       "    </tr>\n",
       "    <tr>\n",
       "      <th>12354</th>\n",
       "      <td>510</td>\n",
       "      <td>79</td>\n",
       "    </tr>\n",
       "    <tr>\n",
       "      <th>12435</th>\n",
       "      <td>1500</td>\n",
       "      <td>80</td>\n",
       "    </tr>\n",
       "    <tr>\n",
       "      <th>8285</th>\n",
       "      <td>4000</td>\n",
       "      <td>80</td>\n",
       "    </tr>\n",
       "  </tbody>\n",
       "</table>\n",
       "</div>"
      ],
      "text/plain": [
       "       renda  idade\n",
       "8841    2000     79\n",
       "9505    1000     79\n",
       "12354    510     79\n",
       "12435   1500     80\n",
       "8285    4000     80"
      ]
     },
     "execution_count": 23,
     "metadata": {},
     "output_type": "execute_result"
    }
   ],
   "source": [
    "# Ordenar a variável explicativa (idade) em ordem crescente\n",
    "df_gq = df.sort_values(by=\"idade\")\n",
    "df_gq.tail()"
   ]
  },
  {
   "cell_type": "code",
   "execution_count": 26,
   "metadata": {},
   "outputs": [
    {
     "name": "stdout",
     "output_type": "stream",
     "text": [
      "Estatística F: 6.640786130942513\n",
      "p-valor: 0.0\n"
     ]
    }
   ],
   "source": [
    "from statsmodels.stats.diagnostic import het_goldfeldquandt\n",
    "\n",
    "# Aplicar o teste de Goldfeld-Quandt\n",
    "gq_test = het_goldfeldquandt(modelo.resid, df_gq[['idade']], alternative='increasing')\n",
    "\n",
    "# Exibir resultados\n",
    "print(f\"Estatística F: {gq_test[0]}\")\n",
    "print(f\"p-valor: {gq_test[1]}\")"
   ]
  },
  {
   "cell_type": "code",
   "execution_count": 16,
   "metadata": {},
   "outputs": [
    {
     "name": "stdout",
     "output_type": "stream",
     "text": [
      "Estatística Qui-quadrado: 0.0014927161965938573\n",
      "p-valor: 0.9691808505818943\n"
     ]
    }
   ],
   "source": [
    "from statsmodels.stats.diagnostic import het_breuschpagan\n",
    "\n",
    "# Calcular o teste de Breusch-Pagan\n",
    "bp_test = het_breuschpagan(modelo.resid, modelo.model.exog)\n",
    "\n",
    "# Exibir os resultados\n",
    "print(f\"Estatística Qui-quadrado: {bp_test[0]}\")\n",
    "print(f\"p-valor: {bp_test[1]}\")"
   ]
  },
  {
   "cell_type": "code",
   "execution_count": 17,
   "metadata": {},
   "outputs": [
    {
     "ename": "NameError",
     "evalue": "name 'shapiro' is not defined",
     "output_type": "error",
     "traceback": [
      "\u001b[1;31m---------------------------------------------------------------------------\u001b[0m",
      "\u001b[1;31mNameError\u001b[0m                                 Traceback (most recent call last)",
      "Cell \u001b[1;32mIn[17], line 2\u001b[0m\n\u001b[0;32m      1\u001b[0m \u001b[38;5;66;03m# Executando o Teste de Shapiro-Wilk nos resíduos\u001b[39;00m\n\u001b[1;32m----> 2\u001b[0m shapiro_test \u001b[38;5;241m=\u001b[39m \u001b[43mshapiro\u001b[49m(residuos)\n\u001b[0;32m      4\u001b[0m \u001b[38;5;66;03m# Exibir os resultados\u001b[39;00m\n\u001b[0;32m      5\u001b[0m \u001b[38;5;28mprint\u001b[39m(\u001b[38;5;124mf\u001b[39m\u001b[38;5;124m\"\u001b[39m\u001b[38;5;124mEstatística do teste: \u001b[39m\u001b[38;5;132;01m{\u001b[39;00mshapiro_test\u001b[38;5;241m.\u001b[39mstatistic\u001b[38;5;132;01m}\u001b[39;00m\u001b[38;5;124m\"\u001b[39m)\n",
      "\u001b[1;31mNameError\u001b[0m: name 'shapiro' is not defined"
     ]
    }
   ],
   "source": [
    "# Executando o Teste de Shapiro-Wilk nos resíduos\n",
    "shapiro_test = shapiro(residuos)\n",
    "\n",
    "# Exibir os resultados\n",
    "print(f\"Estatística do teste: {shapiro_test.statistic}\")\n",
    "print(f\"p-valor: {shapiro_test.pvalue}\")"
   ]
  },
  {
   "cell_type": "code",
   "execution_count": 18,
   "metadata": {},
   "outputs": [
    {
     "name": "stdout",
     "output_type": "stream",
     "text": [
      "                            WLS Regression Results                            \n",
      "==============================================================================\n",
      "Dep. Variable:                  renda   R-squared:                       0.013\n",
      "Model:                            WLS   Adj. R-squared:                  0.013\n",
      "Method:                 Least Squares   F-statistic:                     166.9\n",
      "Date:                Mon, 31 Mar 2025   Prob (F-statistic):           6.01e-38\n",
      "Time:                        16:48:04   Log-Likelihood:            -1.2324e+05\n",
      "No. Observations:               13075   AIC:                         2.465e+05\n",
      "Df Residuals:                   13073   BIC:                         2.465e+05\n",
      "Df Model:                           1                                         \n",
      "Covariance Type:            nonrobust                                         \n",
      "==============================================================================\n",
      "                 coef    std err          t      P>|t|      [0.025      0.975]\n",
      "------------------------------------------------------------------------------\n",
      "const        437.6729     77.335      5.659      0.000     286.086     589.260\n",
      "idade         28.7500      2.225     12.919      0.000      24.388      33.112\n",
      "==============================================================================\n",
      "Omnibus:                    41677.484   Durbin-Watson:                   1.847\n",
      "Prob(Omnibus):                  0.000   Jarque-Bera (JB):       9290669134.425\n",
      "Skew:                          51.453   Prob(JB):                         0.00\n",
      "Kurtosis:                    4131.320   Cond. No.                         105.\n",
      "==============================================================================\n",
      "\n",
      "Notes:\n",
      "[1] Standard Errors assume that the covariance matrix of the errors is correctly specified.\n"
     ]
    }
   ],
   "source": [
    "# Definir os pesos como o inverso da variável 'Renda'\n",
    "pesos = 1 / df[\"idade\"]\n",
    "\n",
    "# Ajustar a regressão ponderada (WLS)\n",
    "modelo_wls = sm.WLS(df[\"renda\"], sm.add_constant(df[\"idade\"]), weights=pesos).fit()\n",
    "\n",
    "# Exibir o resumo do modelo corrigido\n",
    "print(modelo_wls.summary())"
   ]
  },
  {
   "cell_type": "code",
   "execution_count": 19,
   "metadata": {},
   "outputs": [],
   "source": [
    "# Ajustar o modelo OLS (sem ponderação)\n",
    "modelo_ols = sm.OLS(df[\"renda\"], sm.add_constant(df[\"idade\"])).fit()"
   ]
  },
  {
   "cell_type": "code",
   "execution_count": 20,
   "metadata": {},
   "outputs": [
    {
     "name": "stdout",
     "output_type": "stream",
     "text": [
      "        Coef. OLS  Desvio-Padrão OLS   Coef. WLS  Desvio-Padrão WLS\n",
      "const  613.654283          78.073018  437.672910          77.334619\n",
      "idade   23.968972           2.010646   28.750011           2.225433\n"
     ]
    }
   ],
   "source": [
    "# Criar um DataFrame com os coeficientes e erros padrão de ambos os modelos\n",
    "comparacao = pd.DataFrame({\n",
    "    \"Coef. OLS\": modelo_ols.params,\n",
    "    \"Desvio-Padrão OLS\": modelo_ols.bse,\n",
    "    \"Coef. WLS\": modelo_wls.params,\n",
    "    \"Desvio-Padrão WLS\": modelo_wls.bse\n",
    "})\n",
    "\n",
    "# Exibir a comparação\n",
    "print(comparacao)"
   ]
  },
  {
   "cell_type": "code",
   "execution_count": 34,
   "metadata": {},
   "outputs": [
    {
     "name": "stdout",
     "output_type": "stream",
     "text": [
      "                            OLS Regression Results                            \n",
      "==============================================================================\n",
      "Dep. Variable:           residuos_abs   R-squared:                       0.018\n",
      "Model:                            OLS   Adj. R-squared:                  0.018\n",
      "Method:                 Least Squares   F-statistic:                     245.4\n",
      "Date:                Mon, 31 Mar 2025   Prob (F-statistic):           8.11e-55\n",
      "Time:                        11:37:37   Log-Likelihood:            -1.2148e+05\n",
      "No. Observations:               13075   AIC:                         2.430e+05\n",
      "Df Residuals:                   13073   BIC:                         2.430e+05\n",
      "Df Model:                           1                                         \n",
      "Covariance Type:            nonrobust                                         \n",
      "==============================================================================\n",
      "                 coef    std err          t      P>|t|      [0.025      0.975]\n",
      "------------------------------------------------------------------------------\n",
      "Intercept    -36.1883     72.054     -0.502      0.616    -177.424     105.048\n",
      "idade         29.0707      1.856     15.666      0.000      25.433      32.708\n",
      "==============================================================================\n",
      "Omnibus:                    38859.369   Durbin-Watson:                   1.893\n",
      "Prob(Omnibus):                  0.000   Jarque-Bera (JB):       4242982707.135\n",
      "Skew:                          42.429   Prob(JB):                         0.00\n",
      "Kurtosis:                    2792.456   Cond. No.                         122.\n",
      "==============================================================================\n",
      "\n",
      "Notes:\n",
      "[1] Standard Errors assume that the covariance matrix of the errors is correctly specified.\n"
     ]
    }
   ],
   "source": [
    "import statsmodels.formula.api as smf\n",
    "import numpy as np\n",
    "\n",
    "# Criar uma nova variável com os resíduos absolutos\n",
    "df[\"residuos_abs\"] = np.abs(residuos)\n",
    "\n",
    "# Ajustar o modelo auxiliar (regressão dos resíduos absolutos contra a variável independente)\n",
    "modelo_glejser = smf.ols(\"residuos_abs ~ idade\", data=df).fit()\n",
    "\n",
    "# Exibir os resultados do teste\n",
    "print(modelo_glejser.summary())"
   ]
  },
  {
   "cell_type": "code",
   "execution_count": 30,
   "metadata": {},
   "outputs": [
    {
     "name": "stdout",
     "output_type": "stream",
     "text": [
      "Variância do modelo: 8082092.735962243\n"
     ]
    }
   ],
   "source": [
    "# Calcular a variância do modelo\n",
    "variancia_modelo = residuos.var()\n",
    "print(f\"Variância do modelo: {variancia_modelo}\")"
   ]
  },
  {
   "cell_type": "code",
   "execution_count": 31,
   "metadata": {},
   "outputs": [
    {
     "name": "stdout",
     "output_type": "stream",
     "text": [
      "Residual Standard Error (RSE): 2843.01089759014\n"
     ]
    }
   ],
   "source": [
    "import numpy as np\n",
    "\n",
    "# Número de observações e número de parâmetros (inclui intercepto)\n",
    "n = len(df)\n",
    "p = len(modelo.params)\n",
    "\n",
    "# Calcular o RSE\n",
    "rse = np.sqrt(sum(residuos**2) / (n - p))\n",
    "print(f\"Residual Standard Error (RSE): {rse}\")"
   ]
  }
 ],
 "metadata": {
  "kernelspec": {
   "display_name": "Python 3",
   "language": "python",
   "name": "python3"
  },
  "language_info": {
   "codemirror_mode": {
    "name": "ipython",
    "version": 3
   },
   "file_extension": ".py",
   "mimetype": "text/x-python",
   "name": "python",
   "nbconvert_exporter": "python",
   "pygments_lexer": "ipython3",
   "version": "3.12.7"
  }
 },
 "nbformat": 4,
 "nbformat_minor": 2
}
