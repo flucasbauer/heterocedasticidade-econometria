{
 "cells": [
  {
   "cell_type": "code",
   "execution_count": 1,
   "metadata": {},
   "outputs": [],
   "source": [
    "import pandas as pd\n",
    "import statsmodels.api as sm\n",
    "import statsmodels.formula.api as smf\n",
    "import matplotlib.pyplot as plt\n",
    "import seaborn as sns\n",
    "\n",
    "from statsmodels.stats.diagnostic import het_white\n",
    "from statsmodels.stats.diagnostic import het_breuschpagan\n",
    "from statsmodels.stats.diagnostic import het_goldfeldquandt"
   ]
  },
  {
   "cell_type": "code",
   "execution_count": 2,
   "metadata": {},
   "outputs": [
    {
     "data": {
      "text/html": [
       "<div>\n",
       "<style scoped>\n",
       "    .dataframe tbody tr th:only-of-type {\n",
       "        vertical-align: middle;\n",
       "    }\n",
       "\n",
       "    .dataframe tbody tr th {\n",
       "        vertical-align: top;\n",
       "    }\n",
       "\n",
       "    .dataframe thead th {\n",
       "        text-align: right;\n",
       "    }\n",
       "</style>\n",
       "<table border=\"1\" class=\"dataframe\">\n",
       "  <thead>\n",
       "    <tr style=\"text-align: right;\">\n",
       "      <th></th>\n",
       "      <th>Renda</th>\n",
       "      <th>Idade</th>\n",
       "      <th>Ida_qua</th>\n",
       "      <th>Domic</th>\n",
       "      <th>Branco</th>\n",
       "      <th>Sexo</th>\n",
       "    </tr>\n",
       "  </thead>\n",
       "  <tbody>\n",
       "    <tr>\n",
       "      <th>0</th>\n",
       "      <td>800</td>\n",
       "      <td>28</td>\n",
       "      <td>784</td>\n",
       "      <td>1</td>\n",
       "      <td>1</td>\n",
       "      <td>0</td>\n",
       "    </tr>\n",
       "    <tr>\n",
       "      <th>1</th>\n",
       "      <td>700</td>\n",
       "      <td>30</td>\n",
       "      <td>900</td>\n",
       "      <td>1</td>\n",
       "      <td>1</td>\n",
       "      <td>1</td>\n",
       "    </tr>\n",
       "    <tr>\n",
       "      <th>2</th>\n",
       "      <td>1200</td>\n",
       "      <td>32</td>\n",
       "      <td>1024</td>\n",
       "      <td>1</td>\n",
       "      <td>1</td>\n",
       "      <td>1</td>\n",
       "    </tr>\n",
       "    <tr>\n",
       "      <th>3</th>\n",
       "      <td>510</td>\n",
       "      <td>30</td>\n",
       "      <td>900</td>\n",
       "      <td>1</td>\n",
       "      <td>0</td>\n",
       "      <td>0</td>\n",
       "    </tr>\n",
       "    <tr>\n",
       "      <th>4</th>\n",
       "      <td>700</td>\n",
       "      <td>42</td>\n",
       "      <td>1764</td>\n",
       "      <td>1</td>\n",
       "      <td>0</td>\n",
       "      <td>1</td>\n",
       "    </tr>\n",
       "  </tbody>\n",
       "</table>\n",
       "</div>"
      ],
      "text/plain": [
       "   Renda  Idade  Ida_qua  Domic  Branco  Sexo\n",
       "0    800     28      784      1       1     0\n",
       "1    700     30      900      1       1     1\n",
       "2   1200     32     1024      1       1     1\n",
       "3    510     30      900      1       0     0\n",
       "4    700     42     1764      1       0     1"
      ]
     },
     "execution_count": 2,
     "metadata": {},
     "output_type": "execute_result"
    }
   ],
   "source": [
    "# Carregar o banco de dados\n",
    "df = pd.read_excel(r\"C:\\Users\\fluca\\Desktop\\2-unioeste\\Ciências Econômicas\\4º ano\\2º bimestre\\Econometria II\\2º trabalho\\heterocedasticidade\\data\\Trab_Cascavel_Heteroc_Reg_Mult.xlsx\")\n",
    "df.head()"
   ]
  },
  {
   "cell_type": "code",
   "execution_count": 3,
   "metadata": {},
   "outputs": [],
   "source": [
    "df.rename(columns=({'Renda':'renda','Idade':'idade','Ida_qua':'idade²','Domic':'domic', 'Branco':'branco','Sexo':'sexo'}), inplace=True)"
   ]
  },
  {
   "cell_type": "code",
   "execution_count": 4,
   "metadata": {},
   "outputs": [
    {
     "data": {
      "text/html": [
       "<div>\n",
       "<style scoped>\n",
       "    .dataframe tbody tr th:only-of-type {\n",
       "        vertical-align: middle;\n",
       "    }\n",
       "\n",
       "    .dataframe tbody tr th {\n",
       "        vertical-align: top;\n",
       "    }\n",
       "\n",
       "    .dataframe thead th {\n",
       "        text-align: right;\n",
       "    }\n",
       "</style>\n",
       "<table border=\"1\" class=\"dataframe\">\n",
       "  <thead>\n",
       "    <tr style=\"text-align: right;\">\n",
       "      <th></th>\n",
       "      <th>renda</th>\n",
       "      <th>idade</th>\n",
       "      <th>idade²</th>\n",
       "      <th>domic</th>\n",
       "      <th>branco</th>\n",
       "      <th>sexo</th>\n",
       "    </tr>\n",
       "  </thead>\n",
       "  <tbody>\n",
       "    <tr>\n",
       "      <th>0</th>\n",
       "      <td>800</td>\n",
       "      <td>28</td>\n",
       "      <td>784</td>\n",
       "      <td>1</td>\n",
       "      <td>1</td>\n",
       "      <td>0</td>\n",
       "    </tr>\n",
       "    <tr>\n",
       "      <th>1</th>\n",
       "      <td>700</td>\n",
       "      <td>30</td>\n",
       "      <td>900</td>\n",
       "      <td>1</td>\n",
       "      <td>1</td>\n",
       "      <td>1</td>\n",
       "    </tr>\n",
       "    <tr>\n",
       "      <th>2</th>\n",
       "      <td>1200</td>\n",
       "      <td>32</td>\n",
       "      <td>1024</td>\n",
       "      <td>1</td>\n",
       "      <td>1</td>\n",
       "      <td>1</td>\n",
       "    </tr>\n",
       "    <tr>\n",
       "      <th>3</th>\n",
       "      <td>510</td>\n",
       "      <td>30</td>\n",
       "      <td>900</td>\n",
       "      <td>1</td>\n",
       "      <td>0</td>\n",
       "      <td>0</td>\n",
       "    </tr>\n",
       "    <tr>\n",
       "      <th>4</th>\n",
       "      <td>700</td>\n",
       "      <td>42</td>\n",
       "      <td>1764</td>\n",
       "      <td>1</td>\n",
       "      <td>0</td>\n",
       "      <td>1</td>\n",
       "    </tr>\n",
       "  </tbody>\n",
       "</table>\n",
       "</div>"
      ],
      "text/plain": [
       "   renda  idade  idade²  domic  branco  sexo\n",
       "0    800     28     784      1       1     0\n",
       "1    700     30     900      1       1     1\n",
       "2   1200     32    1024      1       1     1\n",
       "3    510     30     900      1       0     0\n",
       "4    700     42    1764      1       0     1"
      ]
     },
     "execution_count": 4,
     "metadata": {},
     "output_type": "execute_result"
    }
   ],
   "source": [
    "df.head()"
   ]
  },
  {
   "cell_type": "code",
   "execution_count": 5,
   "metadata": {},
   "outputs": [
    {
     "name": "stdout",
     "output_type": "stream",
     "text": [
      "Index(['renda', 'idade', 'idade²', 'domic', 'branco', 'sexo'], dtype='object')\n"
     ]
    }
   ],
   "source": [
    "print(df.columns)"
   ]
  },
  {
   "cell_type": "code",
   "execution_count": 6,
   "metadata": {},
   "outputs": [
    {
     "name": "stdout",
     "output_type": "stream",
     "text": [
      "                            OLS Regression Results                            \n",
      "==============================================================================\n",
      "Dep. Variable:                  renda   R-squared:                       0.035\n",
      "Model:                            OLS   Adj. R-squared:                  0.035\n",
      "Method:                 Least Squares   F-statistic:                     94.67\n",
      "Date:                Tue, 01 Apr 2025   Prob (F-statistic):           2.79e-98\n",
      "Time:                        09:20:53   Log-Likelihood:            -1.2237e+05\n",
      "No. Observations:               13075   AIC:                         2.448e+05\n",
      "Df Residuals:                   13069   BIC:                         2.448e+05\n",
      "Df Model:                           5                                         \n",
      "Covariance Type:            nonrobust                                         \n",
      "=================================================================================\n",
      "                    coef    std err          t      P>|t|      [0.025      0.975]\n",
      "---------------------------------------------------------------------------------\n",
      "Intercept     -2128.7153    247.357     -8.606      0.000   -2613.571   -1643.859\n",
      "idade           106.8395     11.419      9.356      0.000      84.457     129.222\n",
      "I(idade ** 2)    -1.0527      0.141     -7.467      0.000      -1.329      -0.776\n",
      "domic           520.0646    116.020      4.483      0.000     292.649     747.480\n",
      "branco          595.4912     54.896     10.848      0.000     487.888     703.094\n",
      "sexo            629.5673     49.729     12.660      0.000     532.091     727.044\n",
      "==============================================================================\n",
      "Omnibus:                    36407.049   Durbin-Watson:                   1.808\n",
      "Prob(Omnibus):                  0.000   Jarque-Bera (JB):       2582868551.262\n",
      "Skew:                          35.559   Prob(JB):                         0.00\n",
      "Kurtosis:                    2179.227   Cond. No.                     1.87e+04\n",
      "==============================================================================\n",
      "\n",
      "Notes:\n",
      "[1] Standard Errors assume that the covariance matrix of the errors is correctly specified.\n",
      "[2] The condition number is large, 1.87e+04. This might indicate that there are\n",
      "strong multicollinearity or other numerical problems.\n"
     ]
    }
   ],
   "source": [
    "# Criar o modelo de regressão múltipla\n",
    "modelo = smf.ols(\"renda ~ idade + I(idade**2) + domic + branco + sexo\", data=df).fit()\n",
    "\n",
    "# Exibir os resultados da regressão\n",
    "print(modelo.summary())"
   ]
  },
  {
   "cell_type": "code",
   "execution_count": 7,
   "metadata": {},
   "outputs": [],
   "source": [
    "# Calcular resíduos e quadrados dos resíduos\n",
    "residuos = modelo.resid\n",
    "quadrados_residuos = residuos ** 2\n",
    "\n",
    "# Calcular os valores ajustados (preditos de y)\n",
    "y_estimado = modelo.fittedvalues"
   ]
  },
  {
   "cell_type": "code",
   "execution_count": 8,
   "metadata": {},
   "outputs": [
    {
     "data": {
      "text/html": [
       "<div>\n",
       "<style scoped>\n",
       "    .dataframe tbody tr th:only-of-type {\n",
       "        vertical-align: middle;\n",
       "    }\n",
       "\n",
       "    .dataframe tbody tr th {\n",
       "        vertical-align: top;\n",
       "    }\n",
       "\n",
       "    .dataframe thead th {\n",
       "        text-align: right;\n",
       "    }\n",
       "</style>\n",
       "<table border=\"1\" class=\"dataframe\">\n",
       "  <thead>\n",
       "    <tr style=\"text-align: right;\">\n",
       "      <th></th>\n",
       "      <th>renda</th>\n",
       "      <th>idade</th>\n",
       "      <th>idade²</th>\n",
       "      <th>domic</th>\n",
       "      <th>branco</th>\n",
       "      <th>sexo</th>\n",
       "    </tr>\n",
       "  </thead>\n",
       "  <tbody>\n",
       "    <tr>\n",
       "      <th>8841</th>\n",
       "      <td>2000</td>\n",
       "      <td>79</td>\n",
       "      <td>6241</td>\n",
       "      <td>1</td>\n",
       "      <td>1</td>\n",
       "      <td>1</td>\n",
       "    </tr>\n",
       "    <tr>\n",
       "      <th>9505</th>\n",
       "      <td>1000</td>\n",
       "      <td>79</td>\n",
       "      <td>6241</td>\n",
       "      <td>1</td>\n",
       "      <td>1</td>\n",
       "      <td>0</td>\n",
       "    </tr>\n",
       "    <tr>\n",
       "      <th>12354</th>\n",
       "      <td>510</td>\n",
       "      <td>79</td>\n",
       "      <td>6241</td>\n",
       "      <td>0</td>\n",
       "      <td>1</td>\n",
       "      <td>1</td>\n",
       "    </tr>\n",
       "    <tr>\n",
       "      <th>12435</th>\n",
       "      <td>1500</td>\n",
       "      <td>80</td>\n",
       "      <td>6400</td>\n",
       "      <td>0</td>\n",
       "      <td>1</td>\n",
       "      <td>1</td>\n",
       "    </tr>\n",
       "    <tr>\n",
       "      <th>8285</th>\n",
       "      <td>4000</td>\n",
       "      <td>80</td>\n",
       "      <td>6400</td>\n",
       "      <td>1</td>\n",
       "      <td>1</td>\n",
       "      <td>0</td>\n",
       "    </tr>\n",
       "  </tbody>\n",
       "</table>\n",
       "</div>"
      ],
      "text/plain": [
       "       renda  idade  idade²  domic  branco  sexo\n",
       "8841    2000     79    6241      1       1     1\n",
       "9505    1000     79    6241      1       1     0\n",
       "12354    510     79    6241      0       1     1\n",
       "12435   1500     80    6400      0       1     1\n",
       "8285    4000     80    6400      1       1     0"
      ]
     },
     "execution_count": 8,
     "metadata": {},
     "output_type": "execute_result"
    }
   ],
   "source": [
    "# Ordenar a variável explicativa (idade) em ordem crescente\n",
    "df_gq = df.sort_values(by=\"idade\")\n",
    "df_gq.tail()"
   ]
  },
  {
   "cell_type": "code",
   "execution_count": 9,
   "metadata": {},
   "outputs": [
    {
     "name": "stdout",
     "output_type": "stream",
     "text": [
      "Estatística F: 6.8373506436673335\n",
      "p-valor: 0.0\n"
     ]
    }
   ],
   "source": [
    "# Aplicar o teste de Goldfeld-Quandt\n",
    "gq_test = het_goldfeldquandt(modelo.resid, df_gq[['idade']], alternative='increasing')\n",
    "\n",
    "# Exibir resultados\n",
    "print(f\"Estatística F: {gq_test[0]}\")\n",
    "print(f\"p-valor: {gq_test[1]}\")"
   ]
  },
  {
   "cell_type": "code",
   "execution_count": 10,
   "metadata": {},
   "outputs": [
    {
     "name": "stdout",
     "output_type": "stream",
     "text": [
      "Estatística Qui-quadrado: 1.7024975333098018\n",
      "p-valor: 0.8885849626866629\n"
     ]
    }
   ],
   "source": [
    "# Calcular o teste de Breusch-Pagan\n",
    "bp_test = het_breuschpagan(modelo.resid, modelo.model.exog)\n",
    "\n",
    "# Exibir os resultados\n",
    "print(f\"Estatística Qui-quadrado: {bp_test[0]}\")\n",
    "print(f\"p-valor: {bp_test[1]}\")"
   ]
  },
  {
   "cell_type": "code",
   "execution_count": 11,
   "metadata": {},
   "outputs": [
    {
     "ename": "NameError",
     "evalue": "name 'X' is not defined",
     "output_type": "error",
     "traceback": [
      "\u001b[1;31m---------------------------------------------------------------------------\u001b[0m",
      "\u001b[1;31mNameError\u001b[0m                                 Traceback (most recent call last)",
      "Cell \u001b[1;32mIn[11], line 2\u001b[0m\n\u001b[0;32m      1\u001b[0m \u001b[38;5;66;03m# Teste de White\u001b[39;00m\n\u001b[1;32m----> 2\u001b[0m white_test \u001b[38;5;241m=\u001b[39m het_white(modelo\u001b[38;5;241m.\u001b[39mresid, \u001b[43mX\u001b[49m)\n\u001b[0;32m      3\u001b[0m \u001b[38;5;28mprint\u001b[39m(\u001b[38;5;124mf\u001b[39m\u001b[38;5;124m\"\u001b[39m\u001b[38;5;124mp-valor do teste de White: \u001b[39m\u001b[38;5;132;01m{\u001b[39;00mwhite_test[\u001b[38;5;241m1\u001b[39m]\u001b[38;5;132;01m}\u001b[39;00m\u001b[38;5;124m\"\u001b[39m)\n",
      "\u001b[1;31mNameError\u001b[0m: name 'X' is not defined"
     ]
    }
   ],
   "source": [
    "# Teste de White\n",
    "white_test = het_white(modelo.resid, X)\n",
    "print(f\"p-valor do teste de White: {white_test[1]}\")"
   ]
  },
  {
   "cell_type": "code",
   "execution_count": 12,
   "metadata": {},
   "outputs": [
    {
     "name": "stdout",
     "output_type": "stream",
     "text": [
      "                            OLS Regression Results                            \n",
      "==============================================================================\n",
      "Dep. Variable:                  renda   R-squared:                       0.035\n",
      "Model:                            OLS   Adj. R-squared:                  0.035\n",
      "Method:                 Least Squares   F-statistic:                     110.0\n",
      "Date:                Tue, 01 Apr 2025   Prob (F-statistic):          3.73e-114\n",
      "Time:                        09:21:23   Log-Likelihood:            -1.2237e+05\n",
      "No. Observations:               13075   AIC:                         2.448e+05\n",
      "Df Residuals:                   13069   BIC:                         2.448e+05\n",
      "Df Model:                           5                                         \n",
      "Covariance Type:                  HC0                                         \n",
      "=================================================================================\n",
      "                    coef    std err          z      P>|z|      [0.025      0.975]\n",
      "---------------------------------------------------------------------------------\n",
      "Intercept     -2128.7153    261.014     -8.156      0.000   -2640.294   -1617.137\n",
      "idade           106.8395     12.258      8.716      0.000      82.814     130.865\n",
      "I(idade ** 2)    -1.0527      0.142     -7.392      0.000      -1.332      -0.774\n",
      "domic           520.0646     66.868      7.777      0.000     389.005     651.124\n",
      "branco          595.4912     45.340     13.134      0.000     506.626     684.356\n",
      "sexo            629.5673     49.524     12.712      0.000     532.502     726.633\n",
      "==============================================================================\n",
      "Omnibus:                    36407.049   Durbin-Watson:                   1.808\n",
      "Prob(Omnibus):                  0.000   Jarque-Bera (JB):       2582868551.262\n",
      "Skew:                          35.559   Prob(JB):                         0.00\n",
      "Kurtosis:                    2179.227   Cond. No.                     1.87e+04\n",
      "==============================================================================\n",
      "\n",
      "Notes:\n",
      "[1] Standard Errors are heteroscedasticity robust (HC0)\n",
      "[2] The condition number is large, 1.87e+04. This might indicate that there are\n",
      "strong multicollinearity or other numerical problems.\n"
     ]
    }
   ],
   "source": [
    "# Ajustar modelo OLS\n",
    "modelo_robusto = smf.ols(\"renda ~ idade + I(idade**2) + domic + branco + sexo\", data=df).fit(cov_type=\"HC0\")\n",
    "\n",
    "# Exibir os resultados\n",
    "print(modelo_robusto.summary())"
   ]
  },
  {
   "cell_type": "code",
   "execution_count": 13,
   "metadata": {},
   "outputs": [
    {
     "data": {
      "text/html": [
       "<div>\n",
       "<style scoped>\n",
       "    .dataframe tbody tr th:only-of-type {\n",
       "        vertical-align: middle;\n",
       "    }\n",
       "\n",
       "    .dataframe tbody tr th {\n",
       "        vertical-align: top;\n",
       "    }\n",
       "\n",
       "    .dataframe thead th {\n",
       "        text-align: right;\n",
       "    }\n",
       "</style>\n",
       "<table border=\"1\" class=\"dataframe\">\n",
       "  <thead>\n",
       "    <tr style=\"text-align: right;\">\n",
       "      <th></th>\n",
       "      <th>Variável</th>\n",
       "      <th>Coef. OLS</th>\n",
       "      <th>Std. OLS</th>\n",
       "      <th>p-valor OLS</th>\n",
       "      <th>Coef. white</th>\n",
       "      <th>Std. white</th>\n",
       "      <th>p-valor white</th>\n",
       "    </tr>\n",
       "  </thead>\n",
       "  <tbody>\n",
       "    <tr>\n",
       "      <th>0</th>\n",
       "      <td>Intercept</td>\n",
       "      <td>-2128.715295</td>\n",
       "      <td>247.357094</td>\n",
       "      <td>8.434498e-18</td>\n",
       "      <td>-2128.715295</td>\n",
       "      <td>261.014224</td>\n",
       "      <td>3.475862e-16</td>\n",
       "    </tr>\n",
       "    <tr>\n",
       "      <th>1</th>\n",
       "      <td>idade</td>\n",
       "      <td>106.839474</td>\n",
       "      <td>11.418844</td>\n",
       "      <td>9.576527e-21</td>\n",
       "      <td>106.839474</td>\n",
       "      <td>12.257915</td>\n",
       "      <td>2.883092e-18</td>\n",
       "    </tr>\n",
       "    <tr>\n",
       "      <th>2</th>\n",
       "      <td>I(idade ** 2)</td>\n",
       "      <td>-1.052698</td>\n",
       "      <td>0.140982</td>\n",
       "      <td>8.729527e-14</td>\n",
       "      <td>-1.052698</td>\n",
       "      <td>0.142414</td>\n",
       "      <td>1.448638e-13</td>\n",
       "    </tr>\n",
       "    <tr>\n",
       "      <th>3</th>\n",
       "      <td>domic</td>\n",
       "      <td>520.064563</td>\n",
       "      <td>116.019608</td>\n",
       "      <td>7.438111e-06</td>\n",
       "      <td>520.064563</td>\n",
       "      <td>66.868245</td>\n",
       "      <td>7.399985e-15</td>\n",
       "    </tr>\n",
       "    <tr>\n",
       "      <th>4</th>\n",
       "      <td>branco</td>\n",
       "      <td>595.491215</td>\n",
       "      <td>54.895515</td>\n",
       "      <td>2.672382e-27</td>\n",
       "      <td>595.491215</td>\n",
       "      <td>45.340060</td>\n",
       "      <td>2.105648e-39</td>\n",
       "    </tr>\n",
       "    <tr>\n",
       "      <th>5</th>\n",
       "      <td>sexo</td>\n",
       "      <td>629.567298</td>\n",
       "      <td>49.729125</td>\n",
       "      <td>1.614843e-36</td>\n",
       "      <td>629.567298</td>\n",
       "      <td>49.524013</td>\n",
       "      <td>5.048461e-37</td>\n",
       "    </tr>\n",
       "  </tbody>\n",
       "</table>\n",
       "</div>"
      ],
      "text/plain": [
       "        Variável    Coef. OLS    Std. OLS   p-valor OLS  Coef. white  \\\n",
       "0      Intercept -2128.715295  247.357094  8.434498e-18 -2128.715295   \n",
       "1          idade   106.839474   11.418844  9.576527e-21   106.839474   \n",
       "2  I(idade ** 2)    -1.052698    0.140982  8.729527e-14    -1.052698   \n",
       "3          domic   520.064563  116.019608  7.438111e-06   520.064563   \n",
       "4         branco   595.491215   54.895515  2.672382e-27   595.491215   \n",
       "5           sexo   629.567298   49.729125  1.614843e-36   629.567298   \n",
       "\n",
       "   Std. white  p-valor white  \n",
       "0  261.014224   3.475862e-16  \n",
       "1   12.257915   2.883092e-18  \n",
       "2    0.142414   1.448638e-13  \n",
       "3   66.868245   7.399985e-15  \n",
       "4   45.340060   2.105648e-39  \n",
       "5   49.524013   5.048461e-37  "
      ]
     },
     "execution_count": 13,
     "metadata": {},
     "output_type": "execute_result"
    }
   ],
   "source": [
    "# Criar DataFrame comparativo\n",
    "resultados_comparacao = pd.DataFrame({\n",
    "    \"Variável\": modelo.params.index,\n",
    "    \"Coef. OLS\": modelo.params.values,\n",
    "    \"Std. OLS\": modelo.bse.values,\n",
    "    \"p-valor OLS\": modelo.pvalues.values,\n",
    "    \"Coef. white\": modelo_robusto.params.values,\n",
    "    \"Std. white\": modelo_robusto.bse.values,\n",
    "    \"p-valor white\": modelo_robusto.pvalues.values\n",
    "})\n",
    "\n",
    "resultados_comparacao"
   ]
  },
  {
   "cell_type": "code",
   "execution_count": 16,
   "metadata": {},
   "outputs": [
    {
     "data": {
      "image/png": "[encoded data removed]",
      "text/plain": [
       "<Figure size 800x500 with 1 Axes>"
      ]
     },
     "metadata": {},
     "output_type": "display_data"
    }
   ],
   "source": [
    "import numpy as np\n",
    "import matplotlib.pyplot as plt\n",
    "import seaborn as sns\n",
    "\n",
    "# Aplicar estilo clean\n",
    "sns.set_style(\"whitegrid\")\n",
    "\n",
    "# Obter coeficientes do modelo\n",
    "b0 = modelo_robusto.params['Intercept']\n",
    "b1 = modelo_robusto.params['idade']\n",
    "b2 = modelo_robusto.params['I(idade ** 2)']\n",
    "\n",
    "# Calcular o ponto de máximo\n",
    "idade_max = -b1 / (2 * b2)\n",
    "renda_max = b0 + b1 * idade_max + b2 * (idade_max ** 2)\n",
    "\n",
    "# Criar um intervalo de valores para idade\n",
    "idade_range = np.linspace(df['idade'].min(), df['idade'].max(), 100)\n",
    "renda_estimado = b0 + b1 * idade_range + b2 * (idade_range ** 2)\n",
    "\n",
    "# Criar o gráfico\n",
    "plt.figure(figsize=(8, 5))\n",
    "\n",
    "# Plotar curva quadrática\n",
    "plt.plot(idade_range, renda_estimado, color='black', linewidth=2, label=\"Curva da Idade²\")\n",
    "\n",
    "# Destacar ponto de máximo\n",
    "plt.scatter(idade_max, renda_max, color='red', edgecolor='black', s=80, label=f\"Ponto Máx.: {idade_max:.1f} anos\")\n",
    "\n",
    "# Ajustes do gráfico\n",
    "plt.xlabel(\"Idade\", fontsize=12)\n",
    "plt.ylabel(\"Renda Estimada\", fontsize=12)\n",
    "plt.title(\"Curva Quadrática da Idade sobre a Renda\", fontsize=14, fontweight='bold')\n",
    "plt.legend(frameon=False)\n",
    "plt.xticks(fontsize=10)\n",
    "plt.yticks(fontsize=10)\n",
    "plt.grid(True, linestyle='--', alpha=0.6)\n",
    "\n",
    "# Remover bordas desnecessárias\n",
    "sns.despine()\n",
    "\n",
    "# Mostrar gráfico\n",
    "plt.show()\n"
   ]
  }
 ],
 "metadata": {
  "kernelspec": {
   "display_name": "Python 3",
   "language": "python",
   "name": "python3"
  },
  "language_info": {
   "codemirror_mode": {
    "name": "ipython",
    "version": 3
   },
   "file_extension": ".py",
   "mimetype": "text/x-python",
   "name": "python",
   "nbconvert_exporter": "python",
   "pygments_lexer": "ipython3",
   "version": "3.12.7"
  }
 },
 "nbformat": 4,
 "nbformat_minor": 2
}
